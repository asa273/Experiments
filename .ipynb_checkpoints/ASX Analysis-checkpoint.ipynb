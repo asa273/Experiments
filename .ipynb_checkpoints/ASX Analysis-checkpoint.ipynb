{
 "cells": [
  {
   "cell_type": "code",
   "execution_count": 15,
   "metadata": {
    "ExecuteTime": {
     "end_time": "2020-07-27T12:23:59.785523Z",
     "start_time": "2020-07-27T12:23:59.781512Z"
    }
   },
   "outputs": [],
   "source": [
    "import pandas as pd\n",
    "import numpy as np\n",
    "import matplotlib.pyplot as plt\n",
    "import seaborn as sns\n",
    "import plotly\n",
    "\n",
    "import zipfile\n",
    "import os\n",
    "\n",
    "import datetime\n",
    "\n",
    "pd.options.mode.chained_assignment = None"
   ]
  },
  {
   "cell_type": "code",
   "execution_count": 2,
   "metadata": {
    "ExecuteTime": {
     "end_time": "2020-07-27T12:07:09.309200Z",
     "start_time": "2020-07-27T12:07:09.295663Z"
    }
   },
   "outputs": [],
   "source": [
    "# Let's define a function to get combined dataset from a given zip folder containing all 5-day data for a given week.\n",
    "def get_week_worth_records(zip_file):\n",
    "    file = zipfile.ZipFile(zip_file)\n",
    "    \n",
    "    df = pd.DataFrame()\n",
    "    \n",
    "    # read through all the files in the zip folder\n",
    "    for txt_file in file.filelist:\n",
    "        try:\n",
    "            temp = file.read(txt_file.filename)\n",
    "            #print(txt_file.filename)\n",
    "            eod_data = temp.decode('utf-8').split('\\r\\n')\n",
    "            splitted_eod_data = [val.split(',') for val in eod_data]\n",
    "\n",
    "            temp_df = pd.DataFrame(splitted_eod_data, columns=['Code', 'Date', 'Open', 'High', 'Low', 'Close', 'Volume'])\n",
    "\n",
    "\n",
    "            df = pd.concat([df, temp_df], axis = 0)\n",
    "        except ValueError:\n",
    "            pass\n",
    "        \n",
    "    return df"
   ]
  },
  {
   "cell_type": "code",
   "execution_count": 3,
   "metadata": {
    "ExecuteTime": {
     "end_time": "2020-07-27T12:07:16.820701Z",
     "start_time": "2020-07-27T12:07:09.313211Z"
    }
   },
   "outputs": [
    {
     "name": "stdout",
     "output_type": "stream",
     "text": [
      "Cleaned-up price dataframe is of size: (210220, 7)\n"
     ]
    }
   ],
   "source": [
    "# Let's create the combined price dataframe from the extracted txt files\n",
    "combined_asx_df = pd.DataFrame()\n",
    "\n",
    "for root, dirs, files in os.walk('data/', topdown=False):\n",
    "    for name in files:\n",
    "        file_name = os.path.join(root, name)\n",
    "        \n",
    "        combined_asx_df = pd.concat([combined_asx_df, get_week_worth_records(file_name)])\n",
    "        \n",
    "# We need to clean up this dataframe. First we remove the null values\n",
    "combined_asx_df.dropna(inplace = True)\n",
    "\n",
    "# Then, we convert the data type to datetime format\n",
    "if ~(combined_asx_df['Date'].dtype == 'datetime64[ns]'):\n",
    "        combined_asx_df['Date'] = [datetime.datetime.strptime(date, '%Y%m%d') for date in combined_asx_df['Date']]\n",
    "        \n",
    "# We then sort this data with the date\n",
    "combined_asx_df.sort_values(by = 'Date', inplace = True)\n",
    "\n",
    "# Then, change the price and volume data to floating point numbers\n",
    "for column in combined_asx_df.columns[2:]:\n",
    "        combined_asx_df[column] = combined_asx_df[column].astype(float)\n",
    "    \n",
    "print('Cleaned-up price dataframe is of size:', combined_asx_df.shape)"
   ]
  },
  {
   "cell_type": "code",
   "execution_count": 4,
   "metadata": {
    "ExecuteTime": {
     "end_time": "2020-07-27T12:07:16.829224Z",
     "start_time": "2020-07-27T12:07:16.824212Z"
    }
   },
   "outputs": [],
   "source": [
    "def get_company_price_data(df, code):\n",
    "    \"\"\"\n",
    "    This function will return price dataframe for a given company (code).\n",
    "    \"\"\"\n",
    "    filtered_df = df.loc[df['Code'] == code, :]\n",
    "    return filtered_df"
   ]
  },
  {
   "cell_type": "code",
   "execution_count": 5,
   "metadata": {
    "ExecuteTime": {
     "end_time": "2020-07-27T12:07:16.839752Z",
     "start_time": "2020-07-27T12:07:16.831731Z"
    }
   },
   "outputs": [],
   "source": [
    "def plot_company_price_data(df, code, return_df = False):\n",
    "    filtered_df = df.loc[df['Code'] == code, :]\n",
    "    plt.figure(figsize = [12, 5])\n",
    "    sns.lineplot(x = 'Date', y = 'Close', data = filtered_df)\n",
    "    plt.grid(which = 'both')\n",
    "    plt.show()\n",
    "    \n",
    "    if return_df:\n",
    "        return filtered_df    "
   ]
  },
  {
   "cell_type": "code",
   "execution_count": 10,
   "metadata": {
    "ExecuteTime": {
     "end_time": "2020-07-27T12:08:53.636646Z",
     "start_time": "2020-07-27T12:08:53.617622Z"
    }
   },
   "outputs": [],
   "source": [
    "def get_trigger_table(company_df, visualize_macd = False, visualize_price = False):\n",
    "    # Calculate the MACD and signal line indicators\n",
    "    \n",
    "    # Let's first calculate the short-term and long-term EMA \n",
    "    short_ema = company_df['Close'].ewm(span = 8, adjust = False).mean()\n",
    "    long_ema = company_df['Close'].ewm(span = 17, adjust = False).mean()\n",
    "    \n",
    "    # Now, we will calculate the MACD line\n",
    "    macd = short_ema - long_ema\n",
    "\n",
    "    # Then the signal line\n",
    "    signal = macd.ewm(span = 9).mean()\n",
    "\n",
    "    company_df['MACD'] = macd\n",
    "    company_df['Signal'] = signal\n",
    "    \n",
    "    company_df['Trigger'] = company_df['MACD'] - company_df['Signal']\n",
    "    \n",
    "    company_df.loc[company_df['Trigger']>=0, 'Trigger'] = 1\n",
    "    company_df.loc[company_df['Trigger']<0, 'Trigger'] = -1\n",
    "    zero_crossings = np.where(np.diff(np.sign(company_df['Trigger'])))[0]\n",
    "    \n",
    "    a = company_df.iloc[zero_crossings, :]\n",
    "\n",
    "    if visualize_price:\n",
    "        plt.figure(figsize = [12, 5])\n",
    "        plt.plot(company_df['Date'], company_df['Close'], color = 'k', alpha = 0.5)\n",
    "        plt.grid(which = 'both')\n",
    "        plt.scatter(a['Date'], a['Close'], c = a['Trigger'])\n",
    "        plt.show()\n",
    "\n",
    "    if visualize_macd:\n",
    "        # Let's visualize this MACD data\n",
    "        plt.figure(figsize = [12, 5])\n",
    "        plt.plot(company_df['Date'], macd, color = 'red', label = 'MACD')\n",
    "        plt.plot(company_df['Date'], signal, color = 'blue', label = 'Signal Line')\n",
    "        plt.legend()\n",
    "        plt.grid(which = 'both')\n",
    "        plt.show()\n",
    "    \n",
    "    return a"
   ]
  },
  {
   "cell_type": "code",
   "execution_count": 9,
   "metadata": {
    "ExecuteTime": {
     "end_time": "2020-07-27T12:08:28.693038Z",
     "start_time": "2020-07-27T12:08:28.658972Z"
    }
   },
   "outputs": [],
   "source": [
    "desired_df = get_company_price_data(combined_asx_df, 'COL')"
   ]
  },
  {
   "cell_type": "code",
   "execution_count": 16,
   "metadata": {
    "ExecuteTime": {
     "end_time": "2020-07-27T12:24:05.459349Z",
     "start_time": "2020-07-27T12:24:04.902227Z"
    }
   },
   "outputs": [
    {
     "data": {
      "image/png": "[encoded data removed]",
      "text/plain": [
       "<Figure size 864x360 with 1 Axes>"
      ]
     },
     "metadata": {
      "needs_background": "light"
     },
     "output_type": "display_data"
    },
    {
     "data": {
      "image/png": "[encoded data removed]",
      "text/plain": [
       "<Figure size 864x360 with 1 Axes>"
      ]
     },
     "metadata": {
      "needs_background": "light"
     },
     "output_type": "display_data"
    },
    {
     "data": {
      "text/html": [
       "<div>\n",
       "<style scoped>\n",
       "    .dataframe tbody tr th:only-of-type {\n",
       "        vertical-align: middle;\n",
       "    }\n",
       "\n",
       "    .dataframe tbody tr th {\n",
       "        vertical-align: top;\n",
       "    }\n",
       "\n",
       "    .dataframe thead th {\n",
       "        text-align: right;\n",
       "    }\n",
       "</style>\n",
       "<table border=\"1\" class=\"dataframe\">\n",
       "  <thead>\n",
       "    <tr style=\"text-align: right;\">\n",
       "      <th></th>\n",
       "      <th>Code</th>\n",
       "      <th>Date</th>\n",
       "      <th>Open</th>\n",
       "      <th>High</th>\n",
       "      <th>Low</th>\n",
       "      <th>Close</th>\n",
       "      <th>Volume</th>\n",
       "      <th>MACD</th>\n",
       "      <th>Signal</th>\n",
       "      <th>Trigger</th>\n",
       "    </tr>\n",
       "  </thead>\n",
       "  <tbody>\n",
       "    <tr>\n",
       "      <th>359</th>\n",
       "      <td>COL</td>\n",
       "      <td>2020-02-17</td>\n",
       "      <td>16.94</td>\n",
       "      <td>17.000</td>\n",
       "      <td>16.83</td>\n",
       "      <td>16.91</td>\n",
       "      <td>1612968.0</td>\n",
       "      <td>0.125605</td>\n",
       "      <td>0.122428</td>\n",
       "      <td>1.0</td>\n",
       "    </tr>\n",
       "    <tr>\n",
       "      <th>347</th>\n",
       "      <td>COL</td>\n",
       "      <td>2020-03-04</td>\n",
       "      <td>15.06</td>\n",
       "      <td>15.340</td>\n",
       "      <td>15.00</td>\n",
       "      <td>15.32</td>\n",
       "      <td>10636106.0</td>\n",
       "      <td>-0.429138</td>\n",
       "      <td>-0.376848</td>\n",
       "      <td>-1.0</td>\n",
       "    </tr>\n",
       "    <tr>\n",
       "      <th>338</th>\n",
       "      <td>COL</td>\n",
       "      <td>2020-03-26</td>\n",
       "      <td>16.94</td>\n",
       "      <td>16.940</td>\n",
       "      <td>16.30</td>\n",
       "      <td>16.55</td>\n",
       "      <td>6721667.0</td>\n",
       "      <td>0.198650</td>\n",
       "      <td>0.151423</td>\n",
       "      <td>1.0</td>\n",
       "    </tr>\n",
       "    <tr>\n",
       "      <th>356</th>\n",
       "      <td>COL</td>\n",
       "      <td>2020-03-27</td>\n",
       "      <td>16.60</td>\n",
       "      <td>16.740</td>\n",
       "      <td>15.61</td>\n",
       "      <td>15.73</td>\n",
       "      <td>7478347.0</td>\n",
       "      <td>0.104019</td>\n",
       "      <td>0.141941</td>\n",
       "      <td>-1.0</td>\n",
       "    </tr>\n",
       "    <tr>\n",
       "      <th>353</th>\n",
       "      <td>COL</td>\n",
       "      <td>2020-03-30</td>\n",
       "      <td>15.63</td>\n",
       "      <td>16.865</td>\n",
       "      <td>15.51</td>\n",
       "      <td>16.82</td>\n",
       "      <td>4582873.0</td>\n",
       "      <td>0.157138</td>\n",
       "      <td>0.144981</td>\n",
       "      <td>1.0</td>\n",
       "    </tr>\n",
       "    <tr>\n",
       "      <th>352</th>\n",
       "      <td>COL</td>\n",
       "      <td>2020-04-09</td>\n",
       "      <td>16.20</td>\n",
       "      <td>16.290</td>\n",
       "      <td>15.71</td>\n",
       "      <td>15.95</td>\n",
       "      <td>6744161.0</td>\n",
       "      <td>-0.012854</td>\n",
       "      <td>0.005263</td>\n",
       "      <td>-1.0</td>\n",
       "    </tr>\n",
       "    <tr>\n",
       "      <th>346</th>\n",
       "      <td>COL</td>\n",
       "      <td>2020-04-20</td>\n",
       "      <td>16.43</td>\n",
       "      <td>16.570</td>\n",
       "      <td>16.20</td>\n",
       "      <td>16.20</td>\n",
       "      <td>4161731.0</td>\n",
       "      <td>0.066727</td>\n",
       "      <td>0.040204</td>\n",
       "      <td>1.0</td>\n",
       "    </tr>\n",
       "    <tr>\n",
       "      <th>347</th>\n",
       "      <td>COL</td>\n",
       "      <td>2020-05-15</td>\n",
       "      <td>15.10</td>\n",
       "      <td>15.210</td>\n",
       "      <td>14.95</td>\n",
       "      <td>15.21</td>\n",
       "      <td>2779601.0</td>\n",
       "      <td>-0.199363</td>\n",
       "      <td>-0.196181</td>\n",
       "      <td>-1.0</td>\n",
       "    </tr>\n",
       "  </tbody>\n",
       "</table>\n",
       "</div>"
      ],
      "text/plain": [
       "    Code       Date   Open    High    Low  Close      Volume      MACD  \\\n",
       "359  COL 2020-02-17  16.94  17.000  16.83  16.91   1612968.0  0.125605   \n",
       "347  COL 2020-03-04  15.06  15.340  15.00  15.32  10636106.0 -0.429138   \n",
       "338  COL 2020-03-26  16.94  16.940  16.30  16.55   6721667.0  0.198650   \n",
       "356  COL 2020-03-27  16.60  16.740  15.61  15.73   7478347.0  0.104019   \n",
       "353  COL 2020-03-30  15.63  16.865  15.51  16.82   4582873.0  0.157138   \n",
       "352  COL 2020-04-09  16.20  16.290  15.71  15.95   6744161.0 -0.012854   \n",
       "346  COL 2020-04-20  16.43  16.570  16.20  16.20   4161731.0  0.066727   \n",
       "347  COL 2020-05-15  15.10  15.210  14.95  15.21   2779601.0 -0.199363   \n",
       "\n",
       "       Signal  Trigger  \n",
       "359  0.122428      1.0  \n",
       "347 -0.376848     -1.0  \n",
       "338  0.151423      1.0  \n",
       "356  0.141941     -1.0  \n",
       "353  0.144981      1.0  \n",
       "352  0.005263     -1.0  \n",
       "346  0.040204      1.0  \n",
       "347 -0.196181     -1.0  "
      ]
     },
     "execution_count": 16,
     "metadata": {},
     "output_type": "execute_result"
    }
   ],
   "source": [
    "get_trigger_table(desired_df, visualize_macd=True, visualize_price=True)"
   ]
  },
  {
   "cell_type": "code",
   "execution_count": 18,
   "metadata": {
    "ExecuteTime": {
     "end_time": "2020-07-27T12:25:39.719628Z",
     "start_time": "2020-07-27T12:25:39.688040Z"
    }
   },
   "outputs": [
    {
     "data": {
      "text/html": [
       "<div>\n",
       "<style scoped>\n",
       "    .dataframe tbody tr th:only-of-type {\n",
       "        vertical-align: middle;\n",
       "    }\n",
       "\n",
       "    .dataframe tbody tr th {\n",
       "        vertical-align: top;\n",
       "    }\n",
       "\n",
       "    .dataframe thead th {\n",
       "        text-align: right;\n",
       "    }\n",
       "</style>\n",
       "<table border=\"1\" class=\"dataframe\">\n",
       "  <thead>\n",
       "    <tr style=\"text-align: right;\">\n",
       "      <th></th>\n",
       "      <th>Code</th>\n",
       "      <th>Date</th>\n",
       "      <th>Open</th>\n",
       "      <th>High</th>\n",
       "      <th>Low</th>\n",
       "      <th>Close</th>\n",
       "      <th>Volume</th>\n",
       "      <th>MACD</th>\n",
       "      <th>Signal</th>\n",
       "      <th>Trigger</th>\n",
       "    </tr>\n",
       "  </thead>\n",
       "  <tbody>\n",
       "    <tr>\n",
       "      <th>347</th>\n",
       "      <td>COL</td>\n",
       "      <td>2020-03-04</td>\n",
       "      <td>15.06</td>\n",
       "      <td>15.340</td>\n",
       "      <td>15.00</td>\n",
       "      <td>15.32</td>\n",
       "      <td>10636106.0</td>\n",
       "      <td>-0.429138</td>\n",
       "      <td>-0.376848</td>\n",
       "      <td>-1.0</td>\n",
       "    </tr>\n",
       "    <tr>\n",
       "      <th>338</th>\n",
       "      <td>COL</td>\n",
       "      <td>2020-03-26</td>\n",
       "      <td>16.94</td>\n",
       "      <td>16.940</td>\n",
       "      <td>16.30</td>\n",
       "      <td>16.55</td>\n",
       "      <td>6721667.0</td>\n",
       "      <td>0.198650</td>\n",
       "      <td>0.151423</td>\n",
       "      <td>1.0</td>\n",
       "    </tr>\n",
       "    <tr>\n",
       "      <th>356</th>\n",
       "      <td>COL</td>\n",
       "      <td>2020-03-27</td>\n",
       "      <td>16.60</td>\n",
       "      <td>16.740</td>\n",
       "      <td>15.61</td>\n",
       "      <td>15.73</td>\n",
       "      <td>7478347.0</td>\n",
       "      <td>0.104019</td>\n",
       "      <td>0.141941</td>\n",
       "      <td>-1.0</td>\n",
       "    </tr>\n",
       "    <tr>\n",
       "      <th>353</th>\n",
       "      <td>COL</td>\n",
       "      <td>2020-03-30</td>\n",
       "      <td>15.63</td>\n",
       "      <td>16.865</td>\n",
       "      <td>15.51</td>\n",
       "      <td>16.82</td>\n",
       "      <td>4582873.0</td>\n",
       "      <td>0.157138</td>\n",
       "      <td>0.144981</td>\n",
       "      <td>1.0</td>\n",
       "    </tr>\n",
       "    <tr>\n",
       "      <th>352</th>\n",
       "      <td>COL</td>\n",
       "      <td>2020-04-09</td>\n",
       "      <td>16.20</td>\n",
       "      <td>16.290</td>\n",
       "      <td>15.71</td>\n",
       "      <td>15.95</td>\n",
       "      <td>6744161.0</td>\n",
       "      <td>-0.012854</td>\n",
       "      <td>0.005263</td>\n",
       "      <td>-1.0</td>\n",
       "    </tr>\n",
       "    <tr>\n",
       "      <th>346</th>\n",
       "      <td>COL</td>\n",
       "      <td>2020-04-20</td>\n",
       "      <td>16.43</td>\n",
       "      <td>16.570</td>\n",
       "      <td>16.20</td>\n",
       "      <td>16.20</td>\n",
       "      <td>4161731.0</td>\n",
       "      <td>0.066727</td>\n",
       "      <td>0.040204</td>\n",
       "      <td>1.0</td>\n",
       "    </tr>\n",
       "    <tr>\n",
       "      <th>347</th>\n",
       "      <td>COL</td>\n",
       "      <td>2020-05-15</td>\n",
       "      <td>15.10</td>\n",
       "      <td>15.210</td>\n",
       "      <td>14.95</td>\n",
       "      <td>15.21</td>\n",
       "      <td>2779601.0</td>\n",
       "      <td>-0.199363</td>\n",
       "      <td>-0.196181</td>\n",
       "      <td>-1.0</td>\n",
       "    </tr>\n",
       "  </tbody>\n",
       "</table>\n",
       "</div>"
      ],
      "text/plain": [
       "    Code       Date   Open    High    Low  Close      Volume      MACD  \\\n",
       "347  COL 2020-03-04  15.06  15.340  15.00  15.32  10636106.0 -0.429138   \n",
       "338  COL 2020-03-26  16.94  16.940  16.30  16.55   6721667.0  0.198650   \n",
       "356  COL 2020-03-27  16.60  16.740  15.61  15.73   7478347.0  0.104019   \n",
       "353  COL 2020-03-30  15.63  16.865  15.51  16.82   4582873.0  0.157138   \n",
       "352  COL 2020-04-09  16.20  16.290  15.71  15.95   6744161.0 -0.012854   \n",
       "346  COL 2020-04-20  16.43  16.570  16.20  16.20   4161731.0  0.066727   \n",
       "347  COL 2020-05-15  15.10  15.210  14.95  15.21   2779601.0 -0.199363   \n",
       "\n",
       "       Signal  Trigger  \n",
       "347 -0.376848     -1.0  \n",
       "338  0.151423      1.0  \n",
       "356  0.141941     -1.0  \n",
       "353  0.144981      1.0  \n",
       "352  0.005263     -1.0  \n",
       "346  0.040204      1.0  \n",
       "347 -0.196181     -1.0  "
      ]
     },
     "execution_count": 18,
     "metadata": {},
     "output_type": "execute_result"
    }
   ],
   "source": [
    "trigger_df = get_trigger_table(desired_df, visualize_macd=False, visualize_price=False)\n",
    "\n",
    "trigger_df = trigger_df.iloc[1:, :]\n",
    "trigger_df"
   ]
  },
  {
   "cell_type": "code",
   "execution_count": null,
   "metadata": {},
   "outputs": [],
   "source": []
  }
 ],
 "metadata": {
  "kernelspec": {
   "display_name": "Python 3",
   "language": "python",
   "name": "python3"
  },
  "language_info": {
   "codemirror_mode": {
    "name": "ipython",
    "version": 3
   },
   "file_extension": ".py",
   "mimetype": "text/x-python",
   "name": "python",
   "nbconvert_exporter": "python",
   "pygments_lexer": "ipython3",
   "version": "3.7.7"
  },
  "toc": {
   "base_numbering": 1,
   "nav_menu": {},
   "number_sections": true,
   "sideBar": true,
   "skip_h1_title": false,
   "title_cell": "Table of Contents",
   "title_sidebar": "Contents",
   "toc_cell": false,
   "toc_position": {},
   "toc_section_display": true,
   "toc_window_display": false
  },
  "varInspector": {
   "cols": {
    "lenName": 16,
    "lenType": 16,
    "lenVar": 40
   },
   "kernels_config": {
    "python": {
     "delete_cmd_postfix": "",
     "delete_cmd_prefix": "del ",
     "library": "var_list.py",
     "varRefreshCmd": "print(var_dic_list())"
    },
    "r": {
     "delete_cmd_postfix": ") ",
     "delete_cmd_prefix": "rm(",
     "library": "var_list.r",
     "varRefreshCmd": "cat(var_dic_list()) "
    }
   },
   "position": {
    "height": "385px",
    "left": "1550px",
    "right": "20px",
    "top": "120px",
    "width": "350px"
   },
   "types_to_exclude": [
    "module",
    "function",
    "builtin_function_or_method",
    "instance",
    "_Feature"
   ],
   "window_display": true
  }
 },
 "nbformat": 4,
 "nbformat_minor": 4
}
