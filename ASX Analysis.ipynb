{
 "cells": [
  {
   "cell_type": "code",
   "execution_count": 124,
   "metadata": {
    "ExecuteTime": {
     "end_time": "2020-07-26T13:50:10.298817Z",
     "start_time": "2020-07-26T13:50:10.293803Z"
    }
   },
   "outputs": [],
   "source": [
    "import pandas as pd\n",
    "import numpy as np\n",
    "import matplotlib.pyplot as plt\n",
    "import seaborn as sns\n",
    "import plotly\n",
    "\n",
    "import zipfile\n",
    "import os\n",
    "\n",
    "import datetime"
   ]
  },
  {
   "cell_type": "code",
   "execution_count": 125,
   "metadata": {
    "ExecuteTime": {
     "end_time": "2020-07-26T13:50:10.322389Z",
     "start_time": "2020-07-26T13:50:10.306342Z"
    }
   },
   "outputs": [],
   "source": [
    "# Let's define a function to get combined dataset from a given zip folder containing all 5-day data for a given week.\n",
    "def get_week_worth_records(zip_file):\n",
    "    file = zipfile.ZipFile(zip_file)\n",
    "    \n",
    "    df = pd.DataFrame()\n",
    "    \n",
    "    # read through all the files in the zip folder\n",
    "    for txt_file in file.filelist:\n",
    "        try:\n",
    "            temp = file.read(txt_file.filename)\n",
    "            #print(txt_file.filename)\n",
    "            eod_data = temp.decode('utf-8').split('\\r\\n')\n",
    "            splitted_eod_data = [val.split(',') for val in eod_data]\n",
    "\n",
    "            temp_df = pd.DataFrame(splitted_eod_data, columns=['Code', 'Date', 'Open', 'High', 'Low', 'Close', 'Volume'])\n",
    "\n",
    "\n",
    "            df = pd.concat([df, temp_df], axis = 0)\n",
    "        except ValueError:\n",
    "            pass\n",
    "        \n",
    "    return df"
   ]
  },
  {
   "cell_type": "code",
   "execution_count": 126,
   "metadata": {
    "ExecuteTime": {
     "end_time": "2020-07-26T13:50:12.214027Z",
     "start_time": "2020-07-26T13:50:10.325392Z"
    }
   },
   "outputs": [],
   "source": [
    "# Let's create the combined price dataframe from the extracted txt files\n",
    "\n",
    "combined_asx_df = pd.DataFrame()\n",
    "\n",
    "for root, dirs, files in os.walk('data/', topdown=False):\n",
    "    for name in files:\n",
    "        file_name = os.path.join(root, name)\n",
    "        \n",
    "        combined_asx_df = pd.concat([combined_asx_df, get_week_worth_records(file_name)])"
   ]
  },
  {
   "cell_type": "code",
   "execution_count": 127,
   "metadata": {
    "ExecuteTime": {
     "end_time": "2020-07-26T13:50:12.233078Z",
     "start_time": "2020-07-26T13:50:12.218038Z"
    }
   },
   "outputs": [],
   "source": [
    "def cleanup_price_df(df):\n",
    "    df.dropna(inplace = True)\n",
    "    \n",
    "    if ~(df['Date'].dtype == 'datetime64[ns]'):\n",
    "        df['Date'] = [datetime.datetime.strptime(date, '%Y%m%d') for date in df['Date']]\n",
    "    \n",
    "    df.sort_values(by = 'Date', inplace = True)\n",
    "    \n",
    "    for column in df.columns[2:]:\n",
    "        df[column] = df[column].astype(float)\n",
    "    \n",
    "    return df"
   ]
  },
  {
   "cell_type": "code",
   "execution_count": 128,
   "metadata": {
    "ExecuteTime": {
     "end_time": "2020-07-26T13:50:12.245117Z",
     "start_time": "2020-07-26T13:50:12.236085Z"
    }
   },
   "outputs": [],
   "source": [
    "def plot_price_data(df, code):\n",
    "    filtered_df = df.loc[df['Code'] == code, :]\n",
    "    plt.figure(figsize = [12, 5])\n",
    "    sns.lineplot(x = 'Date', y = 'Close', data = filtered_df)\n",
    "    plt.show()\n",
    "    \n",
    "    return filtered_df\n",
    "    "
   ]
  },
  {
   "cell_type": "code",
   "execution_count": 129,
   "metadata": {
    "ExecuteTime": {
     "end_time": "2020-07-26T13:50:15.675384Z",
     "start_time": "2020-07-26T13:50:12.253130Z"
    }
   },
   "outputs": [],
   "source": [
    "cleaned_df = cleanup_price_df(combined_asx_df)"
   ]
  },
  {
   "cell_type": "code",
   "execution_count": 130,
   "metadata": {
    "ExecuteTime": {
     "end_time": "2020-07-26T13:50:16.063189Z",
     "start_time": "2020-07-26T13:50:15.677391Z"
    }
   },
   "outputs": [
    {
     "data": {
      "image/png": "[encoded data removed]",
      "text/plain": [
       "<Figure size 864x360 with 1 Axes>"
      ]
     },
     "metadata": {
      "needs_background": "light"
     },
     "output_type": "display_data"
    },
    {
     "data": {
      "text/html": [
       "<div>\n",
       "<style scoped>\n",
       "    .dataframe tbody tr th:only-of-type {\n",
       "        vertical-align: middle;\n",
       "    }\n",
       "\n",
       "    .dataframe tbody tr th {\n",
       "        vertical-align: top;\n",
       "    }\n",
       "\n",
       "    .dataframe thead th {\n",
       "        text-align: right;\n",
       "    }\n",
       "</style>\n",
       "<table border=\"1\" class=\"dataframe\">\n",
       "  <thead>\n",
       "    <tr style=\"text-align: right;\">\n",
       "      <th></th>\n",
       "      <th>Code</th>\n",
       "      <th>Date</th>\n",
       "      <th>Open</th>\n",
       "      <th>High</th>\n",
       "      <th>Low</th>\n",
       "      <th>Close</th>\n",
       "      <th>Volume</th>\n",
       "    </tr>\n",
       "  </thead>\n",
       "  <tbody>\n",
       "    <tr>\n",
       "      <th>1022</th>\n",
       "      <td>NXT</td>\n",
       "      <td>2020-02-03</td>\n",
       "      <td>7.46</td>\n",
       "      <td>7.575</td>\n",
       "      <td>7.430</td>\n",
       "      <td>7.51</td>\n",
       "      <td>1974100.0</td>\n",
       "    </tr>\n",
       "    <tr>\n",
       "      <th>974</th>\n",
       "      <td>NXT</td>\n",
       "      <td>2020-02-04</td>\n",
       "      <td>7.48</td>\n",
       "      <td>7.600</td>\n",
       "      <td>7.480</td>\n",
       "      <td>7.57</td>\n",
       "      <td>1166305.0</td>\n",
       "    </tr>\n",
       "    <tr>\n",
       "      <th>990</th>\n",
       "      <td>NXT</td>\n",
       "      <td>2020-02-05</td>\n",
       "      <td>7.60</td>\n",
       "      <td>7.750</td>\n",
       "      <td>7.600</td>\n",
       "      <td>7.75</td>\n",
       "      <td>2402140.0</td>\n",
       "    </tr>\n",
       "    <tr>\n",
       "      <th>984</th>\n",
       "      <td>NXT</td>\n",
       "      <td>2020-02-06</td>\n",
       "      <td>7.76</td>\n",
       "      <td>7.830</td>\n",
       "      <td>7.730</td>\n",
       "      <td>7.79</td>\n",
       "      <td>1903438.0</td>\n",
       "    </tr>\n",
       "    <tr>\n",
       "      <th>979</th>\n",
       "      <td>NXT</td>\n",
       "      <td>2020-02-07</td>\n",
       "      <td>7.77</td>\n",
       "      <td>7.800</td>\n",
       "      <td>7.635</td>\n",
       "      <td>7.71</td>\n",
       "      <td>2507513.0</td>\n",
       "    </tr>\n",
       "    <tr>\n",
       "      <th>...</th>\n",
       "      <td>...</td>\n",
       "      <td>...</td>\n",
       "      <td>...</td>\n",
       "      <td>...</td>\n",
       "      <td>...</td>\n",
       "      <td>...</td>\n",
       "      <td>...</td>\n",
       "    </tr>\n",
       "    <tr>\n",
       "      <th>1566</th>\n",
       "      <td>NXT</td>\n",
       "      <td>2020-07-13</td>\n",
       "      <td>11.50</td>\n",
       "      <td>11.580</td>\n",
       "      <td>11.160</td>\n",
       "      <td>11.31</td>\n",
       "      <td>2413688.0</td>\n",
       "    </tr>\n",
       "    <tr>\n",
       "      <th>1568</th>\n",
       "      <td>NXT</td>\n",
       "      <td>2020-07-14</td>\n",
       "      <td>11.20</td>\n",
       "      <td>11.380</td>\n",
       "      <td>10.840</td>\n",
       "      <td>10.91</td>\n",
       "      <td>2151071.0</td>\n",
       "    </tr>\n",
       "    <tr>\n",
       "      <th>1568</th>\n",
       "      <td>NXT</td>\n",
       "      <td>2020-07-15</td>\n",
       "      <td>11.13</td>\n",
       "      <td>11.300</td>\n",
       "      <td>10.930</td>\n",
       "      <td>11.05</td>\n",
       "      <td>2115266.0</td>\n",
       "    </tr>\n",
       "    <tr>\n",
       "      <th>1569</th>\n",
       "      <td>NXT</td>\n",
       "      <td>2020-07-16</td>\n",
       "      <td>11.10</td>\n",
       "      <td>11.190</td>\n",
       "      <td>10.920</td>\n",
       "      <td>11.00</td>\n",
       "      <td>1356337.0</td>\n",
       "    </tr>\n",
       "    <tr>\n",
       "      <th>1569</th>\n",
       "      <td>NXT</td>\n",
       "      <td>2020-07-17</td>\n",
       "      <td>11.14</td>\n",
       "      <td>11.230</td>\n",
       "      <td>10.800</td>\n",
       "      <td>10.93</td>\n",
       "      <td>1252884.0</td>\n",
       "    </tr>\n",
       "  </tbody>\n",
       "</table>\n",
       "<p>117 rows × 7 columns</p>\n",
       "</div>"
      ],
      "text/plain": [
       "     Code       Date   Open    High     Low  Close     Volume\n",
       "1022  NXT 2020-02-03   7.46   7.575   7.430   7.51  1974100.0\n",
       "974   NXT 2020-02-04   7.48   7.600   7.480   7.57  1166305.0\n",
       "990   NXT 2020-02-05   7.60   7.750   7.600   7.75  2402140.0\n",
       "984   NXT 2020-02-06   7.76   7.830   7.730   7.79  1903438.0\n",
       "979   NXT 2020-02-07   7.77   7.800   7.635   7.71  2507513.0\n",
       "...   ...        ...    ...     ...     ...    ...        ...\n",
       "1566  NXT 2020-07-13  11.50  11.580  11.160  11.31  2413688.0\n",
       "1568  NXT 2020-07-14  11.20  11.380  10.840  10.91  2151071.0\n",
       "1568  NXT 2020-07-15  11.13  11.300  10.930  11.05  2115266.0\n",
       "1569  NXT 2020-07-16  11.10  11.190  10.920  11.00  1356337.0\n",
       "1569  NXT 2020-07-17  11.14  11.230  10.800  10.93  1252884.0\n",
       "\n",
       "[117 rows x 7 columns]"
      ]
     },
     "execution_count": 130,
     "metadata": {},
     "output_type": "execute_result"
    }
   ],
   "source": [
    "plot_price_data(cleaned_df, 'NXT')"
   ]
  },
  {
   "cell_type": "code",
   "execution_count": null,
   "metadata": {},
   "outputs": [],
   "source": []
  }
 ],
 "metadata": {
  "kernelspec": {
   "display_name": "Python 3",
   "language": "python",
   "name": "python3"
  },
  "language_info": {
   "codemirror_mode": {
    "name": "ipython",
    "version": 3
   },
   "file_extension": ".py",
   "mimetype": "text/x-python",
   "name": "python",
   "nbconvert_exporter": "python",
   "pygments_lexer": "ipython3",
   "version": "3.7.7"
  },
  "toc": {
   "base_numbering": 1,
   "nav_menu": {},
   "number_sections": true,
   "sideBar": true,
   "skip_h1_title": false,
   "title_cell": "Table of Contents",
   "title_sidebar": "Contents",
   "toc_cell": false,
   "toc_position": {},
   "toc_section_display": true,
   "toc_window_display": false
  },
  "varInspector": {
   "cols": {
    "lenName": 16,
    "lenType": 16,
    "lenVar": 40
   },
   "kernels_config": {
    "python": {
     "delete_cmd_postfix": "",
     "delete_cmd_prefix": "del ",
     "library": "var_list.py",
     "varRefreshCmd": "print(var_dic_list())"
    },
    "r": {
     "delete_cmd_postfix": ") ",
     "delete_cmd_prefix": "rm(",
     "library": "var_list.r",
     "varRefreshCmd": "cat(var_dic_list()) "
    }
   },
   "types_to_exclude": [
    "module",
    "function",
    "builtin_function_or_method",
    "instance",
    "_Feature"
   ],
   "window_display": false
  }
 },
 "nbformat": 4,
 "nbformat_minor": 4
}
